{
 "cells": [
  {
   "cell_type": "code",
   "execution_count": 1,
   "id": "9ef50ac8",
   "metadata": {},
   "outputs": [],
   "source": [
    "import requests\n",
    "import selenium\n",
    "from bs4 import BeautifulSoup\n",
    "from selenium import webdriver\n",
    "from selenium.webdriver.common.keys import Keys\n",
    "from selenium.webdriver.common.by import By\n",
    "import pandas as pd\n",
    "import time\n",
    "from selenium.common.exceptions import NoSuchElementException,StaleElementReferenceException,ElementClickInterceptedException\n",
    "from selenium.webdriver.common.keys import Keys\n",
    "\n",
    "\n",
    "import warnings\n",
    "warnings.filterwarnings('ignore')"
   ]
  },
  {
   "cell_type": "code",
   "execution_count": 2,
   "id": "4594f42e",
   "metadata": {},
   "outputs": [],
   "source": [
    "driver = webdriver.Chrome(r\"C:\\Users\\ASUS\\chromedriver.exe\")"
   ]
  },
  {
   "cell_type": "code",
   "execution_count": 3,
   "id": "bf9dc094",
   "metadata": {},
   "outputs": [],
   "source": [
    "driver.get(\"https://www.flipkart.com\")"
   ]
  },
  {
   "cell_type": "code",
   "execution_count": 4,
   "id": "88fdc6d2",
   "metadata": {},
   "outputs": [],
   "source": [
    "# Closing the popup\n",
    "try:\n",
    "    driver.find_element_by_xpath('//button[@class=\"_2KpZ6l _2doB4z\"]').click()\n",
    "except :\n",
    "    pass"
   ]
  },
  {
   "cell_type": "code",
   "execution_count": 236,
   "id": "fa737806",
   "metadata": {},
   "outputs": [],
   "source": [
    "key = [\"Smart watches\",\"Phones\",\"Laptops\",\"Professional Cameras\",\"Headphones\",\"Printers\",\"Monitors\",\"Router\",\"HomeTheatre\"]"
   ]
  },
  {
   "cell_type": "code",
   "execution_count": 6,
   "id": "6b60c6fa",
   "metadata": {},
   "outputs": [],
   "source": [
    "search_box = driver.find_element_by_xpath('//input[@class=\"_3704LK\"]')\n",
    "\n",
    "search_btn = driver.find_element_by_xpath('//div[@class=\"col-12-12 _2oO9oE\"]//button')"
   ]
  },
  {
   "cell_type": "code",
   "execution_count": 8,
   "id": "47d52e43",
   "metadata": {},
   "outputs": [],
   "source": [
    "# To Store the product Urls\n",
    "urls = []\n",
    "# Fetching urls of the products\n",
    "for i in key:\n",
    "    time.sleep(1)\n",
    "    try:\n",
    "        search_box.send_keys(Keys.CONTROL+\"a\")# Selecting all the text present inside the search box\n",
    "        search_box.send_keys(Keys.DELETE)# Deleting it\n",
    "        search_box.send_keys(i)# Sending keys for searching\n",
    "        search_btn.click()# Clicking on search button\n",
    "    except StaleElementReferenceException:\n",
    "        driver.find_element_by_xpath('//input[@class=\"_3704LK\"]').send_keys(Keys.CONTROL+\"a\")\n",
    "        driver.find_element_by_xpath('//input[@class=\"_3704LK\"]').send_keys(Keys.DELETE)\n",
    "        driver.find_element_by_xpath('//div[@class=\"col-12-12 _2oO9oE\"]//button').click()\n",
    "    \n",
    "    time.sleep(2)\n",
    "    for i in driver.find_elements_by_xpath('//a[@class=\"_1fQZEK\" or @class=\"s1Q9rs\"]'):# Extracting product url\n",
    "        urls.append(i.get_attribute('href'))"
   ]
  },
  {
   "cell_type": "code",
   "execution_count": 17,
   "id": "ccd6ef9b",
   "metadata": {},
   "outputs": [],
   "source": [
    "Rating = [] # Creating list to store data\n",
    "review_s = []\n",
    "full_r = []\n",
    "for i in urls:\n",
    "    driver.get(i)\n",
    "    time.sleep(2)\n",
    "\n",
    "    # Clicking on all reviews\n",
    "    try:\n",
    "        all_review =driver.find_element_by_xpath(\"//div[@class='_3UAT2v _16PBlm']//span\")\n",
    "        all_review.click()\n",
    "        time.sleep(2)\n",
    "    except:\n",
    "        continue\n",
    "    # Defining loop to navigate first 10 pages\n",
    "    for pages in range(0,10):\n",
    "        \n",
    "        # Fecthing rating\n",
    "        try:\n",
    "            for i in driver.find_elements_by_xpath(\"//div[@class='col _2wzgFH K0kLPL']/div[1]\"):\n",
    "                if i.text is None:\n",
    "                    Rating.append(\"---\")\n",
    "                else:\n",
    "                    Rating.append(i.text.split(\"\\n\")[0])\n",
    "                \n",
    "        except StaleElementReferenceException:\n",
    "            pass  \n",
    "\n",
    "    \n",
    "        # Short Reviews\n",
    "        try:\n",
    "            for i in driver.find_elements_by_xpath(\"//div[@class='col _2wzgFH K0kLPL']/div[1]\"):\n",
    "                if i.text is None:\n",
    "                    review_s.append(\"---\")\n",
    "                else:\n",
    "                    review_s.append(i.text.split(\"\\n\"))\n",
    "        except StaleElementReferenceException:\n",
    "            pass\n",
    "        \n",
    "        # Fetching full reviews\n",
    "        try:\n",
    "            for i in driver.find_elements_by_xpath('//div[@class=\"t-ZTKy\"]'):\n",
    "                if i.text is None:\n",
    "                    full_r.append(\"---\")\n",
    "                else:\n",
    "                    full_r.append(i.text)\n",
    "        except StaleElementReferenceException:\n",
    "            pass\n",
    "        \n",
    "    \n",
    "        try:\n",
    "            button=driver.find_element_by_xpath(\"//*[contains(text(), 'Next')]\")\n",
    "            driver.execute_script(\"arguments[0].click();\", button)\n",
    "            time.sleep(2)\n",
    "        \n",
    "        except:\n",
    "            break\n",
    "    "
   ]
  },
  {
   "cell_type": "markdown",
   "id": "dcd698cc",
   "metadata": {},
   "source": [
    "### Fetching data from Amazon.in"
   ]
  },
  {
   "cell_type": "code",
   "execution_count": 30,
   "id": "d595efd4",
   "metadata": {},
   "outputs": [],
   "source": [
    "driver.get(\"https://www.amazon.in\")"
   ]
  },
  {
   "cell_type": "code",
   "execution_count": 271,
   "id": "1bd42e36",
   "metadata": {},
   "outputs": [],
   "source": [
    "# To Store the product Urls\n",
    "amzn_urls = []\n",
    "for i in key:\n",
    "    time.sleep(1)\n",
    "    try:\n",
    "        driver.find_element_by_id('twotabsearchtextbox').clear()\n",
    "        driver.find_element_by_id('twotabsearchtextbox').send_keys(i)\n",
    "        time.sleep(1)\n",
    "        driver.find_element_by_xpath('//span[@class=\"nav-search-submit-text nav-sprite nav-progressive-attribute\"]').click()\n",
    "        time.sleep(2)\n",
    "        for j in driver.find_elements_by_xpath('//h2[@class=\"a-size-mini a-spacing-none a-color-base s-line-clamp-2\"]//a'):\n",
    "            amzn_urls.append(j.get_attribute('href'))  \n",
    "    except NoSuchElementException:\n",
    "        driver.refresh()\n",
    "        continue"
   ]
  },
  {
   "cell_type": "code",
   "execution_count": 296,
   "id": "677a8b37",
   "metadata": {},
   "outputs": [],
   "source": [
    "for i in amzn_urls:\n",
    "    driver.get(i)\n",
    "    time.sleep(2)\n",
    "\n",
    "    try:\n",
    "        all_review =driver.find_element_by_xpath('//div[@id=\"reviews-medley-footer\"]//a')\n",
    "        all_review.click()\n",
    "        time.sleep(2)\n",
    "    except:\n",
    "        continue\n",
    "    \n",
    "    try:\n",
    "            driver.find_element_by_xpath('//a[@data-hook=\"cr-translate-these-reviews-link\"]').click()\n",
    "    except:\n",
    "        pass\n",
    "    \n",
    "    \n",
    "        \n",
    "    try:\n",
    "        for i in driver.find_elements_by_xpath('//*[@class=\"a-section celwidget\"]/div[2]/a[1]'):\n",
    "            if i.text is \" \":\n",
    "                Rating.append(\"---\")\n",
    "            else:\n",
    "                Rating.append(i.get_attribute('title').split(\".\")[0])\n",
    "                \n",
    "    except StaleElementReferenceException:\n",
    "        pass  \n",
    "\n",
    "    \n",
    "        \n",
    "    try:\n",
    "        for i in driver.find_elements_by_xpath('//a[@data-hook=\"review-title\"]'):\n",
    "            if i.text is \" \":\n",
    "                review_s.append(\"---\")\n",
    "            else:\n",
    "                review_s.append(i.text.split(\"\\n\"))\n",
    "    except StaleElementReferenceException:\n",
    "        pass\n",
    "    \n",
    "    try:\n",
    "        for i in driver.find_elements_by_xpath('//span[contains(@data-hook,\"review-body\")]'):\n",
    "            if i.text is \" \":\n",
    "                full_r.append(\"---\")\n",
    "            else:\n",
    "                full_r.append(i.text)\n",
    "    except NoSuchElementException:\n",
    "        for i in range(0,len(review_s)):\n",
    "            full_r.append(\"--\")\n"
   ]
  },
  {
   "cell_type": "code",
   "execution_count": 297,
   "id": "257941f9",
   "metadata": {},
   "outputs": [
    {
     "name": "stdout",
     "output_type": "stream",
     "text": [
      "20067 20067 20067\n"
     ]
    }
   ],
   "source": [
    "print(len(Rating),len(full_r),len(review_s))"
   ]
  },
  {
   "cell_type": "code",
   "execution_count": 299,
   "id": "892287b9",
   "metadata": {},
   "outputs": [],
   "source": [
    "df = pd.DataFrame({\"Ratings\":Rating,\"Full Reviews\":full_r,\"Short Reviews\":review_s})"
   ]
  },
  {
   "cell_type": "code",
   "execution_count": 300,
   "id": "c4d4decd",
   "metadata": {},
   "outputs": [],
   "source": [
    "df.to_csv(\"Nlp_project_dataset.csv\")"
   ]
  },
  {
   "cell_type": "code",
   "execution_count": 301,
   "id": "d4205a08",
   "metadata": {},
   "outputs": [
    {
     "data": {
      "text/html": [
       "<div>\n",
       "<style scoped>\n",
       "    .dataframe tbody tr th:only-of-type {\n",
       "        vertical-align: middle;\n",
       "    }\n",
       "\n",
       "    .dataframe tbody tr th {\n",
       "        vertical-align: top;\n",
       "    }\n",
       "\n",
       "    .dataframe thead th {\n",
       "        text-align: right;\n",
       "    }\n",
       "</style>\n",
       "<table border=\"1\" class=\"dataframe\">\n",
       "  <thead>\n",
       "    <tr style=\"text-align: right;\">\n",
       "      <th></th>\n",
       "      <th>Ratings</th>\n",
       "      <th>Full Reviews</th>\n",
       "      <th>Short Reviews</th>\n",
       "    </tr>\n",
       "  </thead>\n",
       "  <tbody>\n",
       "    <tr>\n",
       "      <th>0</th>\n",
       "      <td>5</td>\n",
       "      <td>Awesome Watch , More better than I ve expected...</td>\n",
       "      <td>[5, Excellent]</td>\n",
       "    </tr>\n",
       "    <tr>\n",
       "      <th>1</th>\n",
       "      <td>5</td>\n",
       "      <td>It's charging time Is not good If you will use...</td>\n",
       "      <td>[5, Awesome]</td>\n",
       "    </tr>\n",
       "    <tr>\n",
       "      <th>2</th>\n",
       "      <td>5</td>\n",
       "      <td>Extremely value for money</td>\n",
       "      <td>[5, Terrific]</td>\n",
       "    </tr>\n",
       "    <tr>\n",
       "      <th>3</th>\n",
       "      <td>5</td>\n",
       "      <td>Nice product</td>\n",
       "      <td>[5, Best in the market!]</td>\n",
       "    </tr>\n",
       "    <tr>\n",
       "      <th>4</th>\n",
       "      <td>3</td>\n",
       "      <td>Super</td>\n",
       "      <td>[3, Fair]</td>\n",
       "    </tr>\n",
       "  </tbody>\n",
       "</table>\n",
       "</div>"
      ],
      "text/plain": [
       "  Ratings                                       Full Reviews  \\\n",
       "0       5  Awesome Watch , More better than I ve expected...   \n",
       "1       5  It's charging time Is not good If you will use...   \n",
       "2       5                          Extremely value for money   \n",
       "3       5                                       Nice product   \n",
       "4       3                                              Super   \n",
       "\n",
       "              Short Reviews  \n",
       "0            [5, Excellent]  \n",
       "1              [5, Awesome]  \n",
       "2             [5, Terrific]  \n",
       "3  [5, Best in the market!]  \n",
       "4                 [3, Fair]  "
      ]
     },
     "execution_count": 301,
     "metadata": {},
     "output_type": "execute_result"
    }
   ],
   "source": [
    "df.head()"
   ]
  },
  {
   "cell_type": "code",
   "execution_count": null,
   "id": "176751d8",
   "metadata": {},
   "outputs": [],
   "source": []
  }
 ],
 "metadata": {
  "kernelspec": {
   "display_name": "Python 3",
   "language": "python",
   "name": "python3"
  },
  "language_info": {
   "codemirror_mode": {
    "name": "ipython",
    "version": 3
   },
   "file_extension": ".py",
   "mimetype": "text/x-python",
   "name": "python",
   "nbconvert_exporter": "python",
   "pygments_lexer": "ipython3",
   "version": "3.8.8"
  }
 },
 "nbformat": 4,
 "nbformat_minor": 5
}
